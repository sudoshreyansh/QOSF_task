{
  "cells": [
    {
      "cell_type": "code",
      "execution_count": null,
      "metadata": {
        "id": "k3ZZbzIDLBgx"
      },
      "outputs": [],
      "source": [
        "!pip install qiskit\n",
        "!pip install qiskit-aer\n",
        "!pip install qiskit-ibm-runtime\n"
      ]
    },
    {
      "cell_type": "code",
      "execution_count": null,
      "metadata": {
        "id": "SHdsiNsuLSiO"
      },
      "outputs": [],
      "source": [
        "import qiskit\n",
        "from qiskit import *\n",
        "from qiskit_aer import StatevectorSimulator\n",
        "from qiskit.circuit.library import MCMT, CZGate, GroverOperator"
      ]
    },
    {
      "cell_type": "code",
      "source": [
        "def encode_solution(circuit, num, bits):\n",
        "  for i in range(bits):\n",
        "    if not num & (1 << i):\n",
        "      circuit.x(i)\n",
        "\n",
        "  circuit.append(MCMT(CZGate(), bits-1, 1), range(bits))\n",
        "\n",
        "  for i in range(bits):\n",
        "    if not num & (1 << i):\n",
        "      circuit.x(i)\n",
        "\n",
        "\n",
        "def make_oracle(list_n, k, bits=5):\n",
        "  oracle = QuantumCircuit(bits)\n",
        "  oracle.h(range(bits))\n",
        "\n",
        "  for i in range(len(list_n)):\n",
        "    if list_n[i] < k:\n",
        "      encode_solution(oracle, i, bits)\n",
        "\n",
        "  return oracle\n",
        "\n",
        "def make_grover(oracle, bits=5):\n",
        "  grover = GroverOperator(oracle)\n",
        "  grover.measure_all()\n",
        "  return grover\n",
        "\n",
        "def run_circuit(circuit):\n",
        "  sim = StatevectorSimulator()\n",
        "  circuit = qiskit.transpile(circuit, sim)\n",
        "  counts = sim.run(circuit, shots=1000).result().get_counts()\n",
        "  return counts\n"
      ],
      "metadata": {
        "id": "TIiexk6gtp4r"
      },
      "execution_count": null,
      "outputs": []
    },
    {
      "cell_type": "code",
      "source": [
        "NUM_QBITS=5\n",
        "\n",
        "def less_than_k(k, list_n):\n",
        "  oracle = make_oracle(list_n, k, NUM_QBITS)\n",
        "  circuit = make_grover(oracle)\n",
        "  result = run_circuit(circuit).int_outcomes()\n",
        "  solution = [list_n[x] for x in result if result[x] > 100]\n",
        "  return solution\n",
        "\n",
        "list_n = [4,9,11,14,1,13,6,15]\n",
        "k = 7\n",
        "print(less_than_k(k, list_n))"
      ],
      "metadata": {
        "colab": {
          "base_uri": "https://localhost:8080/"
        },
        "id": "j6w2oGGfwQqS",
        "outputId": "13d7731b-0650-4dc6-fcaf-6a62e9b1a534"
      },
      "execution_count": null,
      "outputs": [
        {
          "output_type": "stream",
          "name": "stdout",
          "text": [
            "[4, 1, 6]\n"
          ]
        }
      ]
    },
    {
      "cell_type": "markdown",
      "source": [
        "## **Circuit Diagrams**"
      ],
      "metadata": {
        "id": "y-Io86wY7mJg"
      }
    },
    {
      "cell_type": "code",
      "source": [
        "oracle = make_oracle(list_n, k, NUM_QBITS)\n",
        "oracle.draw()"
      ],
      "metadata": {
        "colab": {
          "base_uri": "https://localhost:8080/",
          "height": 186
        },
        "id": "OMl6FNDt7oDs",
        "outputId": "f1e2ef77-138a-47cf-d6ad-6bebb29a02b1"
      },
      "execution_count": null,
      "outputs": [
        {
          "output_type": "execute_result",
          "data": {
            "text/plain": [
              "     ┌───┐┌───┐┌───────┐┌───┐┌───┐┌───────┐┌───┐┌───┐┌───────┐┌───┐\n",
              "q_0: ┤ H ├┤ X ├┤0      ├┤ X ├┤ X ├┤0      ├┤ X ├┤ X ├┤0      ├┤ X ├\n",
              "     ├───┤├───┤│       │├───┤├───┤│       │├───┤└───┘│       │└───┘\n",
              "q_1: ┤ H ├┤ X ├┤1      ├┤ X ├┤ X ├┤1      ├┤ X ├─────┤1      ├─────\n",
              "     ├───┤├───┤│       │├───┤└───┘│       │└───┘     │       │     \n",
              "q_2: ┤ H ├┤ X ├┤2 mcmt ├┤ X ├─────┤2 mcmt ├──────────┤2 mcmt ├─────\n",
              "     ├───┤├───┤│       │├───┤┌───┐│       │┌───┐┌───┐│       │┌───┐\n",
              "q_3: ┤ H ├┤ X ├┤3      ├┤ X ├┤ X ├┤3      ├┤ X ├┤ X ├┤3      ├┤ X ├\n",
              "     ├───┤├───┤│       │├───┤├───┤│       │├───┤├───┤│       │├───┤\n",
              "q_4: ┤ H ├┤ X ├┤4      ├┤ X ├┤ X ├┤4      ├┤ X ├┤ X ├┤4      ├┤ X ├\n",
              "     └───┘└───┘└───────┘└───┘└───┘└───────┘└───┘└───┘└───────┘└───┘"
            ],
            "text/html": [
              "<pre style=\"word-wrap: normal;white-space: pre;background: #fff0;line-height: 1.1;font-family: &quot;Courier New&quot;,Courier,monospace\">     ┌───┐┌───┐┌───────┐┌───┐┌───┐┌───────┐┌───┐┌───┐┌───────┐┌───┐\n",
              "q_0: ┤ H ├┤ X ├┤0      ├┤ X ├┤ X ├┤0      ├┤ X ├┤ X ├┤0      ├┤ X ├\n",
              "     ├───┤├───┤│       │├───┤├───┤│       │├───┤└───┘│       │└───┘\n",
              "q_1: ┤ H ├┤ X ├┤1      ├┤ X ├┤ X ├┤1      ├┤ X ├─────┤1      ├─────\n",
              "     ├───┤├───┤│       │├───┤└───┘│       │└───┘     │       │     \n",
              "q_2: ┤ H ├┤ X ├┤2 mcmt ├┤ X ├─────┤2 mcmt ├──────────┤2 mcmt ├─────\n",
              "     ├───┤├───┤│       │├───┤┌───┐│       │┌───┐┌───┐│       │┌───┐\n",
              "q_3: ┤ H ├┤ X ├┤3      ├┤ X ├┤ X ├┤3      ├┤ X ├┤ X ├┤3      ├┤ X ├\n",
              "     ├───┤├───┤│       │├───┤├───┤│       │├───┤├───┤│       │├───┤\n",
              "q_4: ┤ H ├┤ X ├┤4      ├┤ X ├┤ X ├┤4      ├┤ X ├┤ X ├┤4      ├┤ X ├\n",
              "     └───┘└───┘└───────┘└───┘└───┘└───────┘└───┘└───┘└───────┘└───┘</pre>"
            ]
          },
          "metadata": {},
          "execution_count": 206
        }
      ]
    },
    {
      "cell_type": "code",
      "source": [
        "circuit = make_grover(oracle)\n",
        "circuit.draw()"
      ],
      "metadata": {
        "colab": {
          "base_uri": "https://localhost:8080/",
          "height": 217
        },
        "id": "XL9t3FPj8Fvj",
        "outputId": "540b5859-d16c-42ae-abf1-fb0486debe8d"
      },
      "execution_count": null,
      "outputs": [
        {
          "output_type": "execute_result",
          "data": {
            "text/plain": [
              "         ┌────┐ ░ ┌─┐            \n",
              "state_0: ┤0   ├─░─┤M├────────────\n",
              "         │    │ ░ └╥┘┌─┐         \n",
              "state_1: ┤1   ├─░──╫─┤M├─────────\n",
              "         │    │ ░  ║ └╥┘┌─┐      \n",
              "state_2: ┤2 Q ├─░──╫──╫─┤M├──────\n",
              "         │    │ ░  ║  ║ └╥┘┌─┐   \n",
              "state_3: ┤3   ├─░──╫──╫──╫─┤M├───\n",
              "         │    │ ░  ║  ║  ║ └╥┘┌─┐\n",
              "state_4: ┤4   ├─░──╫──╫──╫──╫─┤M├\n",
              "         └────┘ ░  ║  ║  ║  ║ └╥┘\n",
              " meas: 5/══════════╩══╩══╩══╩══╩═\n",
              "                   0  1  2  3  4 "
            ],
            "text/html": [
              "<pre style=\"word-wrap: normal;white-space: pre;background: #fff0;line-height: 1.1;font-family: &quot;Courier New&quot;,Courier,monospace\">         ┌────┐ ░ ┌─┐            \n",
              "state_0: ┤0   ├─░─┤M├────────────\n",
              "         │    │ ░ └╥┘┌─┐         \n",
              "state_1: ┤1   ├─░──╫─┤M├─────────\n",
              "         │    │ ░  ║ └╥┘┌─┐      \n",
              "state_2: ┤2 Q ├─░──╫──╫─┤M├──────\n",
              "         │    │ ░  ║  ║ └╥┘┌─┐   \n",
              "state_3: ┤3   ├─░──╫──╫──╫─┤M├───\n",
              "         │    │ ░  ║  ║  ║ └╥┘┌─┐\n",
              "state_4: ┤4   ├─░──╫──╫──╫──╫─┤M├\n",
              "         └────┘ ░  ║  ║  ║  ║ └╥┘\n",
              " meas: 5/══════════╩══╩══╩══╩══╩═\n",
              "                   0  1  2  3  4 </pre>"
            ]
          },
          "metadata": {},
          "execution_count": 207
        }
      ]
    },
    {
      "cell_type": "code",
      "source": [],
      "metadata": {
        "id": "uwgmaRF18NYk"
      },
      "execution_count": null,
      "outputs": []
    }
  ],
  "metadata": {
    "colab": {
      "provenance": []
    },
    "kernelspec": {
      "display_name": "Python 3",
      "name": "python3"
    },
    "language_info": {
      "name": "python"
    }
  },
  "nbformat": 4,
  "nbformat_minor": 0
}